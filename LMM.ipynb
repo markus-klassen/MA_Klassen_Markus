{
 "cells": [
  {
   "cell_type": "markdown",
   "metadata": {},
   "source": [
    "This notebook computes the LMMs for the data"
   ]
  },
  {
   "cell_type": "code",
   "execution_count": 1,
   "metadata": {},
   "outputs": [],
   "source": [
    "# install packages\n",
    "\n",
    "import pickle\n",
    "import matplotlib.pyplot as plt\n",
    "import statsmodels.formula.api as smf\n",
    "\n",
    "\n",
    "# custom packages\n",
    "\n",
    "import helper_functions as hp"
   ]
  },
  {
   "cell_type": "code",
   "execution_count": 2,
   "metadata": {},
   "outputs": [],
   "source": [
    "# load true data unprocessed\n",
    "with open('AGMT_data.pkl', 'rb') as f:\n",
    "    raw_data = pickle.load(f)"
   ]
  },
  {
   "cell_type": "code",
   "execution_count": 3,
   "metadata": {},
   "outputs": [],
   "source": [
    "# exclude invalid data\n",
    "modified_data = raw_data[raw_data[\"eq5d_mobility\"].notna() & raw_data[\"eq5d_usual_activities\"].notna() & raw_data[\"eq5d_selfcare\"].notna() & raw_data[\"eq5d_pain_discomfort\"].notna() & raw_data[\"eq5d_anxiety_depression\"].notna()]"
   ]
  },
  {
   "cell_type": "code",
   "execution_count": 4,
   "metadata": {},
   "outputs": [],
   "source": [
    "keys = [\"eq5d_mobility\", \"eq5d_selfcare\", \"eq5d_usual_activities\", \"eq5d_pain_discomfort\", \"eq5d_anxiety_depression\"]"
   ]
  },
  {
   "cell_type": "code",
   "execution_count": 9,
   "metadata": {},
   "outputs": [],
   "source": [
    "def LMM(covariate):\n",
    "\n",
    "    # set up model\n",
    "    md = smf.mixedlm(rf\"hb ~ C({covariate})\", modified_data, groups=\"patient_id\")\n",
    "\n",
    "    # estimate parameters\n",
    "    mdf = md.fit()\n",
    "\n",
    "\n",
    "    sum = mdf.summary()\n",
    "    sum.title = rf\"LMM for categorical covariate {covariate}\"\n",
    "\n",
    "    print(sum)"
   ]
  },
  {
   "cell_type": "code",
   "execution_count": 10,
   "metadata": {},
   "outputs": [
    {
     "name": "stdout",
     "output_type": "stream",
     "text": [
      "           LMM for categorical covariate eq5d_mobility\n",
      "==================================================================\n",
      "Model:                MixedLM    Dependent Variable:    hb        \n",
      "No. Observations:     1397       Method:                REML      \n",
      "No. Groups:           263        Scale:                 2.4634    \n",
      "Min. group size:      1          Log-Likelihood:        -2841.6849\n",
      "Max. group size:      43         Converged:             Yes       \n",
      "Mean group size:      5.3                                         \n",
      "------------------------------------------------------------------\n",
      "                        Coef.  Std.Err.   z    P>|z| [0.025 0.975]\n",
      "------------------------------------------------------------------\n",
      "Intercept               10.388    0.144 71.915 0.000 10.105 10.671\n",
      "C(eq5d_mobility)[T.2.0] -0.327    0.154 -2.125 0.034 -0.629 -0.025\n",
      "C(eq5d_mobility)[T.3.0] -0.722    0.163 -4.423 0.000 -1.042 -0.402\n",
      "C(eq5d_mobility)[T.4.0] -0.906    0.246 -3.683 0.000 -1.388 -0.424\n",
      "C(eq5d_mobility)[T.5.0] -0.962    0.583 -1.650 0.099 -2.106  0.181\n",
      "patient_id Var           3.311    0.241                           \n",
      "==================================================================\n",
      "\n",
      "           LMM for categorical covariate eq5d_selfcare\n",
      "==================================================================\n",
      "Model:                MixedLM    Dependent Variable:    hb        \n",
      "No. Observations:     1397       Method:                REML      \n",
      "No. Groups:           263        Scale:                 2.5007    \n",
      "Min. group size:      1          Log-Likelihood:        -2852.4781\n",
      "Max. group size:      43         Converged:             Yes       \n",
      "Mean group size:      5.3                                         \n",
      "------------------------------------------------------------------\n",
      "                        Coef.  Std.Err.   z    P>|z| [0.025 0.975]\n",
      "------------------------------------------------------------------\n",
      "Intercept               10.138    0.137 74.014 0.000  9.870 10.407\n",
      "C(eq5d_selfcare)[T.2.0] -0.051    0.168 -0.303 0.762 -0.380  0.279\n",
      "C(eq5d_selfcare)[T.3.0] -0.279    0.198 -1.407 0.160 -0.668  0.110\n",
      "C(eq5d_selfcare)[T.4.0] -0.197    0.345 -0.571 0.568 -0.874  0.480\n",
      "C(eq5d_selfcare)[T.5.0] -0.644    0.469 -1.373 0.170 -1.562  0.275\n",
      "patient_id Var           3.388    0.245                           \n",
      "==================================================================\n",
      "\n",
      "           LMM for categorical covariate eq5d_usual_activities\n",
      "==========================================================================\n",
      "Model:                  MixedLM       Dependent Variable:       hb        \n",
      "No. Observations:       1397          Method:                   REML      \n",
      "No. Groups:             263           Scale:                    2.4556    \n",
      "Min. group size:        1             Log-Likelihood:           -2841.1143\n",
      "Max. group size:        43            Converged:                Yes       \n",
      "Mean group size:        5.3                                               \n",
      "--------------------------------------------------------------------------\n",
      "                                Coef.  Std.Err.   z    P>|z| [0.025 0.975]\n",
      "--------------------------------------------------------------------------\n",
      "Intercept                       10.481    0.149 70.534 0.000 10.189 10.772\n",
      "C(eq5d_usual_activities)[T.2.0] -0.562    0.144 -3.898 0.000 -0.845 -0.279\n",
      "C(eq5d_usual_activities)[T.3.0] -0.734    0.163 -4.496 0.000 -1.054 -0.414\n",
      "C(eq5d_usual_activities)[T.4.0] -0.832    0.231 -3.603 0.000 -1.285 -0.380\n",
      "C(eq5d_usual_activities)[T.5.0] -0.923    0.296 -3.117 0.002 -1.503 -0.343\n",
      "patient_id Var                   3.324    0.243                           \n",
      "==========================================================================\n",
      "\n",
      "           LMM for categorical covariate eq5d_pain_discomfort\n",
      "=========================================================================\n",
      "Model:                   MixedLM      Dependent Variable:      hb        \n",
      "No. Observations:        1397         Method:                  REML      \n",
      "No. Groups:              263          Scale:                   2.4858    \n",
      "Min. group size:         1            Log-Likelihood:          -2850.0305\n",
      "Max. group size:         43           Converged:               Yes       \n",
      "Mean group size:         5.3                                             \n",
      "-------------------------------------------------------------------------\n",
      "                               Coef.  Std.Err.   z    P>|z| [0.025 0.975]\n",
      "-------------------------------------------------------------------------\n",
      "Intercept                      10.201    0.149 68.673 0.000  9.910 10.493\n",
      "C(eq5d_pain_discomfort)[T.2.0] -0.404    0.147 -2.746 0.006 -0.693 -0.116\n",
      "C(eq5d_pain_discomfort)[T.3.0] -0.103    0.164 -0.631 0.528 -0.425  0.218\n",
      "C(eq5d_pain_discomfort)[T.4.0] -0.049    0.308 -0.158 0.875 -0.652  0.555\n",
      "C(eq5d_pain_discomfort)[T.5.0] -0.158    0.795 -0.198 0.843 -1.715  1.400\n",
      "patient_id Var                  3.424    0.249                           \n",
      "=========================================================================\n",
      "\n",
      "           LMM for categorical covariate eq5d_anxiety_depression\n",
      "============================================================================\n",
      "Model:                    MixedLM       Dependent Variable:       hb        \n",
      "No. Observations:         1397          Method:                   REML      \n",
      "No. Groups:               263           Scale:                    2.5008    \n",
      "Min. group size:          1             Log-Likelihood:           -2853.0158\n",
      "Max. group size:          43            Converged:                Yes       \n",
      "Mean group size:          5.3                                               \n",
      "----------------------------------------------------------------------------\n",
      "                                  Coef.  Std.Err.   z    P>|z| [0.025 0.975]\n",
      "----------------------------------------------------------------------------\n",
      "Intercept                         10.092    0.143 70.505 0.000  9.812 10.373\n",
      "C(eq5d_anxiety_depression)[T.2.0] -0.079    0.148 -0.533 0.594 -0.368  0.211\n",
      "C(eq5d_anxiety_depression)[T.3.0]  0.037    0.183  0.202 0.840 -0.322  0.396\n",
      "C(eq5d_anxiety_depression)[T.4.0]  0.221    0.367  0.603 0.546 -0.498  0.941\n",
      "C(eq5d_anxiety_depression)[T.5.0] -0.660    0.612 -1.079 0.281 -1.859  0.539\n",
      "patient_id Var                     3.406    0.246                           \n",
      "============================================================================\n",
      "\n"
     ]
    }
   ],
   "source": [
    "for i in range(5):\n",
    "    LMM(keys[i])"
   ]
  }
 ],
 "metadata": {
  "kernelspec": {
   "display_name": "Python 3",
   "language": "python",
   "name": "python3"
  },
  "language_info": {
   "codemirror_mode": {
    "name": "ipython",
    "version": 3
   },
   "file_extension": ".py",
   "mimetype": "text/x-python",
   "name": "python",
   "nbconvert_exporter": "python",
   "pygments_lexer": "ipython3",
   "version": "3.12.3"
  }
 },
 "nbformat": 4,
 "nbformat_minor": 2
}
